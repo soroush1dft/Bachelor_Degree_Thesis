{
  "nbformat": 4,
  "nbformat_minor": 0,
  "metadata": {
    "colab": {
      "provenance": [],
      "authorship_tag": "ABX9TyNOPNTkM80fuyUsu/vsGakW",
      "include_colab_link": true
    },
    "kernelspec": {
      "name": "python3",
      "display_name": "Python 3"
    },
    "language_info": {
      "name": "python"
    }
  },
  "cells": [
    {
      "cell_type": "markdown",
      "metadata": {
        "id": "view-in-github",
        "colab_type": "text"
      },
      "source": [
        "<a href=\"https://colab.research.google.com/github/soroush1dft/Bachelor_Degree_Thesis/blob/main/Birthday_Paradox.ipynb\" target=\"_parent\"><img src=\"https://colab.research.google.com/assets/colab-badge.svg\" alt=\"Open In Colab\"/></a>"
      ]
    },
    {
      "cell_type": "code",
      "execution_count": 10,
      "metadata": {
        "colab": {
          "base_uri": "https://localhost:8080/"
        },
        "id": "q0ou1fC0Ogyn",
        "outputId": "ceadf736-a964-4368-b7ff-bf15bb870b05"
      },
      "outputs": [
        {
          "output_type": "stream",
          "name": "stdout",
          "text": [
            "Enter the number of people: 77\n",
            "The probability of at least one collision among 77 people is approximately 0.9997\n"
          ]
        }
      ],
      "source": [
        "from math import exp\n",
        "\n",
        "def birthday_paradox(num_people, num_days=365):\n",
        "    \"\"\"\n",
        "    Calculate the probability of at least one pair of individuals sharing the same birthday.\n",
        "\n",
        "    Parameters:\n",
        "    num_people (int): The number of people in the group.\n",
        "    num_days (int): The number of days in the year being considered. Default is 365.\n",
        "\n",
        "    Returns:\n",
        "    float: The probability of at least one collision (shared birthday).\n",
        "    \"\"\"\n",
        "    # Calculate the probability of no collision\n",
        "    prob_no_collision = exp(-(num_people**2 - num_people) / (2 * num_days))\n",
        "    # Calculate the probability of at least one collision\n",
        "    prob_at_least_one_collision = 1 - prob_no_collision\n",
        "    return prob_at_least_one_collision\n",
        "\n",
        "# Example usage:\n",
        "# Ask the user for the number of people\n",
        "num_people_input = input(\"Enter the number of people: \")\n",
        "try:\n",
        "    num_people = int(num_people_input)\n",
        "    # Calculate the probability\n",
        "    prob = birthday_paradox(num_people)\n",
        "    print(f\"The probability of at least one collision among {num_people} people is approximately {prob:.4f}\")\n",
        "except ValueError:\n",
        "    print(\"Please enter a valid integer for the number of people.\")\n"
      ]
    }
  ]
}