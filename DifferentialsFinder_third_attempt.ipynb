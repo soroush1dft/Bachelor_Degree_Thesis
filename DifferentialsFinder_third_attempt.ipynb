{
  "cells": [
    {
      "cell_type": "markdown",
      "metadata": {
        "id": "view-in-github",
        "colab_type": "text"
      },
      "source": [
        "<a href=\"https://colab.research.google.com/github/soroush1dft/Bachelor_Degree_Thesis/blob/main/DifferentialsFinder_third_attempt.ipynb\" target=\"_parent\"><img src=\"https://colab.research.google.com/assets/colab-badge.svg\" alt=\"Open In Colab\"/></a>"
      ]
    },
    {
      "cell_type": "markdown",
      "metadata": {
        "id": "UDDJ522qVeG6"
      },
      "source": [
        "# 1- Inputs:\n",
        "In this part just S-box and bit permutation and Differential Distribution Table (DDT) has introduced."
      ]
    },
    {
      "cell_type": "code",
      "execution_count": null,
      "metadata": {
        "id": "tfhL3tjiVJ6P"
      },
      "outputs": [],
      "source": [
        "Sx = {\n",
        " 0: 6,\n",
        " 1: 4,\n",
        " 2: 12,\n",
        " 3: 5,\n",
        " 4: 0,\n",
        " 5: 7,\n",
        " 6: 2,\n",
        " 7: 14,\n",
        " 8: 1,\n",
        " 9: 15,\n",
        " 10: 3,\n",
        " 11: 13,\n",
        " 12: 8,\n",
        " 13: 10,\n",
        " 14: 9,\n",
        " 15: 11\n",
        "}\n",
        "Px = {\n",
        " 0: 0,\n",
        " 1: 4,\n",
        " 2: 8,\n",
        " 3: 12,\n",
        " 4: 1,\n",
        " 5: 5,\n",
        " 6: 9,\n",
        " 7: 13,\n",
        " 8: 2,\n",
        " 9: 6,\n",
        " 10: 10,\n",
        " 11: 14,\n",
        " 12: 3,\n",
        " 13: 7,\n",
        " 14: 11,\n",
        " 15: 15\n",
        "}"
      ]
    },
    {
      "cell_type": "code",
      "execution_count": null,
      "metadata": {
        "id": "tuJh7-ezVaS2"
      },
      "outputs": [],
      "source": [
        "def P_x(X):\n",
        "  y = Px[X]\n",
        "  return y"
      ]
    },
    {
      "cell_type": "code",
      "execution_count": null,
      "metadata": {
        "colab": {
          "base_uri": "https://localhost:8080/"
        },
        "id": "nuAKNph6VhMt",
        "outputId": "d86018c1-beed-4c8a-a8ad-9baaab19a1f9"
      },
      "outputs": [
        {
          "output_type": "stream",
          "name": "stdout",
          "text": [
            "[[16, 0, 0, 0, 0, 0, 0, 0, 0, 0, 0, 0, 0, 0, 0, 0],\n",
            " [0, 0, 6, 0, 0, 0, 0, 2, 0, 2, 0, 0, 2, 0, 4, 0],\n",
            " [0, 6, 6, 0, 0, 0, 0, 0, 0, 2, 2, 0, 0, 0, 0, 0],\n",
            " [0, 0, 0, 6, 0, 2, 0, 0, 2, 0, 0, 0, 4, 0, 2, 0],\n",
            " [0, 0, 0, 2, 0, 2, 4, 0, 0, 2, 2, 2, 0, 0, 2, 0],\n",
            " [0, 2, 2, 0, 4, 0, 0, 4, 2, 0, 0, 2, 0, 0, 0, 0],\n",
            " [0, 0, 2, 0, 4, 0, 0, 2, 2, 0, 2, 2, 2, 0, 0, 0],\n",
            " [0, 0, 0, 0, 0, 4, 4, 0, 2, 2, 2, 2, 0, 0, 0, 0],\n",
            " [0, 0, 0, 0, 0, 2, 0, 2, 4, 0, 0, 4, 0, 2, 0, 2],\n",
            " [0, 2, 0, 0, 0, 2, 2, 2, 0, 4, 2, 0, 0, 0, 0, 2],\n",
            " [0, 0, 0, 0, 2, 2, 0, 0, 0, 4, 4, 0, 2, 2, 0, 0],\n",
            " [0, 0, 0, 2, 2, 0, 2, 2, 2, 0, 0, 4, 0, 0, 2, 0],\n",
            " [0, 4, 0, 2, 0, 2, 0, 0, 2, 0, 0, 0, 0, 0, 6, 0],\n",
            " [0, 0, 0, 0, 0, 0, 2, 2, 0, 0, 0, 0, 6, 2, 0, 4],\n",
            " [0, 2, 0, 4, 2, 0, 0, 0, 0, 0, 2, 0, 0, 0, 0, 6],\n",
            " [0, 0, 0, 0, 2, 0, 2, 0, 0, 0, 0, 0, 0, 10, 0, 2]]\n"
          ]
        }
      ],
      "source": [
        "#DDT matrix\n",
        "import pprint as pprint\n",
        "DDT_matrix = [\\\n",
        "       [16,  0,  0,  0,  0,  0,  0,  0,  0,  0,  0,  0,  0,  0,  0,  0],\n",
        "       [ 0,  0,  6,  0,  0,  0,  0,  2,  0,  2,  0,  0,  2,  0,  4,  0],\n",
        "       [ 0,  6,  6,  0,  0,  0,  0,  0,  0,  2,  2,  0,  0,  0,  0,  0],\n",
        "       [ 0,  0,  0,  6,  0,  2,  0,  0,  2,  0,  0,  0,  4,  0,  2,  0],\n",
        "       [ 0,  0,  0,  2,  0,  2,  4,  0,  0,  2,  2,  2,  0,  0,  2,  0],\n",
        "       [ 0,  2,  2,  0,  4,  0,  0,  4,  2,  0,  0,  2,  0,  0,  0,  0],\n",
        "       [ 0,  0,  2,  0,  4,  0,  0,  2,  2,  0,  2,  2,  2,  0,  0,  0],\n",
        "       [ 0,  0,  0,  0,  0,  4,  4,  0,  2,  2,  2,  2,  0,  0,  0,  0],\n",
        "       [ 0,  0,  0,  0,  0,  2,  0,  2,  4,  0,  0,  4,  0,  2,  0,  2],\n",
        "       [ 0,  2,  0,  0,  0,  2,  2,  2,  0,  4,  2,  0,  0,  0,  0,  2],\n",
        "       [ 0,  0,  0,  0,  2,  2,  0,  0,  0,  4,  4,  0,  2,  2,  0,  0],\n",
        "       [ 0,  0,  0,  2,  2,  0,  2,  2,  2,  0,  0,  4,  0,  0,  2,  0],\n",
        "       [ 0,  4,  0,  2,  0,  2,  0,  0,  2,  0,  0,  0,  0,  0,  6,  0],\n",
        "       [ 0,  0,  0,  0,  0,  0,  2,  2,  0,  0,  0,  0,  6,  2,  0,  4],\n",
        "       [ 0,  2,  0,  4,  2,  0,  0,  0,  0,  0,  2,  0,  0,  0,  0,  6],\n",
        "       [ 0,  0,  0,  0,  2,  0,  2,  0,  0,  0,  0,  0,  0, 10,  0,  2]]\n",
        "pprint.pprint(DDT_matrix)"
      ]
    },
    {
      "cell_type": "markdown",
      "metadata": {
        "id": "ddOsNTRVjpQb"
      },
      "source": [
        "# 2- Exercise 3:\n",
        "first we need a function to calculate each combined probability.\n",
        "then we need an other function to find transformations which has the highest combined probability by iterate over the DDT matrix."
      ]
    },
    {
      "cell_type": "code",
      "execution_count": null,
      "metadata": {
        "colab": {
          "base_uri": "https://localhost:8080/"
        },
        "id": "s6gpMuQdkV91",
        "outputId": "cc4a7933-eff0-4a0f-89c9-2633fe780920"
      },
      "outputs": [
        {
          "output_type": "stream",
          "name": "stdout",
          "text": [
            "Maximum Combined Probability: 0.234375\n",
            "Transformations leading to maximum probability:\n",
            "Input: 14, Intermediate: 15, Output: 13\n",
            "Input: 15, Intermediate: 13, Output: 12\n"
          ]
        }
      ],
      "source": [
        "import numpy as np\n",
        "\n",
        "# Function to calculate the specific combined probability\n",
        "def calculate_specific_combined_probability(matrix, input1, intermediate, output):\n",
        "    return (matrix[input1, intermediate] / 16) * (matrix[intermediate, output] / 16)\n",
        "\n",
        "\n",
        "# Function to find specific transformations with the maximum combined probability\n",
        "def find_specific_transformations(matrix):\n",
        "    size = len(matrix)\n",
        "    max_probability = 0\n",
        "    transformations = []\n",
        "\n",
        "    # Iterate over all possible input pairs and calculate probabilities\n",
        "    for i in range(1, size):  # Nonzero input\n",
        "        for k in range(1, size):  # Nonzero intermediate value\n",
        "            for j in range(1, size):  # Nonzero output\n",
        "                probability = calculate_specific_combined_probability(matrix, i, k, j)\n",
        "\n",
        "                # Update max probability and store transformations\n",
        "                if probability > max_probability:\n",
        "                    max_probability = probability\n",
        "                    transformations = [(i, k, j)]\n",
        "                elif probability == max_probability:\n",
        "                    transformations.append((i, k, j))\n",
        "\n",
        "    return max_probability, transformations\n",
        "\n",
        "\n",
        "\n",
        "DDT_matrix_third_question = np.array([\\\n",
        "       [16,  0,  0,  0,  0,  0,  0,  0,  0,  0,  0,  0,  0,  0,  0,  0],\n",
        "       [ 0,  0,  6,  0,  0,  0,  0,  2,  0,  2,  0,  0,  2,  0,  4,  0],\n",
        "       [ 0,  6,  6,  0,  0,  0,  0,  0,  0,  2,  2,  0,  0,  0,  0,  0],\n",
        "       [ 0,  0,  0,  6,  0,  2,  0,  0,  2,  0,  0,  0,  4,  0,  2,  0],\n",
        "       [ 0,  0,  0,  2,  0,  2,  4,  0,  0,  2,  2,  2,  0,  0,  2,  0],\n",
        "       [ 0,  2,  2,  0,  4,  0,  0,  4,  2,  0,  0,  2,  0,  0,  0,  0],\n",
        "       [ 0,  0,  2,  0,  4,  0,  0,  2,  2,  0,  2,  2,  2,  0,  0,  0],\n",
        "       [ 0,  0,  0,  0,  0,  4,  4,  0,  2,  2,  2,  2,  0,  0,  0,  0],\n",
        "       [ 0,  0,  0,  0,  0,  2,  0,  2,  4,  0,  0,  4,  0,  2,  0,  2],\n",
        "       [ 0,  2,  0,  0,  0,  2,  2,  2,  0,  4,  2,  0,  0,  0,  0,  2],\n",
        "       [ 0,  0,  0,  0,  2,  2,  0,  0,  0,  4,  4,  0,  2,  2,  0,  0],\n",
        "       [ 0,  0,  0,  2,  2,  0,  2,  2,  2,  0,  0,  4,  0,  0,  2,  0],\n",
        "       [ 0,  4,  0,  2,  0,  2,  0,  0,  2,  0,  0,  0,  0,  0,  6,  0],\n",
        "       [ 0,  0,  0,  0,  0,  0,  2,  2,  0,  0,  0,  0,  6,  2,  0,  4],\n",
        "       [ 0,  2,  0,  4,  2,  0,  0,  0,  0,  0,  2,  0,  0,  0,  0,  6],\n",
        "       [ 0,  0,  0,  0,  2,  0,  2,  0,  0,  0,  0,  0,  0, 10,  0,  2]])\n",
        "\n",
        "# Find and display the specific transformations and probabilities\n",
        "max_prob, trans = find_specific_transformations(DDT_matrix_third_question)\n",
        "print(\"Maximum Combined Probability: {:.6f}\".format(max_prob))\n",
        "print(\"Transformations leading to maximum probability:\")\n",
        "for t in trans:\n",
        "    print(\"Input: {}, Intermediate: {}, Output: {}\".format(*t))\n"
      ]
    },
    {
      "cell_type": "markdown",
      "metadata": {
        "id": "ENw4ZtRlWEnm"
      },
      "source": [
        "# 3- In this part I made some functions to work with inputs"
      ]
    },
    {
      "cell_type": "code",
      "execution_count": null,
      "metadata": {
        "id": "AE-1kR_-Vl-4"
      },
      "outputs": [],
      "source": [
        "#converts all list member to binary\n",
        "def convert_to_binary(massage_input_decimal):\n",
        "    bin_massage = [bin(massage_input_decimal[i]) for i in range(len(massage_input_decimal))]\n",
        "    return bin_massage\n",
        "\n",
        "\n",
        "def binary_to_padded_string(binary_str, pad_length=4):\n",
        "    # Remove the '0b' prefix and convert to an integer\n",
        "    binary_int = int(binary_str, 2)\n",
        "\n",
        "    # Format the integer back to binary, padding with zeros to the desired length\n",
        "    padded_binary_str = format(binary_int, f'0{pad_length}b')\n",
        "\n",
        "    return padded_binary_str\n",
        "def convert_to_string(X):\n",
        "  converted_string = ''\n",
        "  Bin_input = convert_to_binary(X)\n",
        "  for i in range(len(Bin_input)):\n",
        "    converted_string += binary_to_padded_string(Bin_input[i])\n",
        "  return converted_string\n",
        "\n",
        "def binary_string_to_list(input_string):\n",
        "    binary_list = []  # Initialize an empty list to store the binary strings\n",
        "\n",
        "    # Divide the input string into groups of 4 characters\n",
        "    for i in range(0, len(input_string), 4):\n",
        "        binary_group = input_string[i:i+4]  # Extract 4 characters from the input\n",
        "        binary_list.append(int(binary_group, 2))  # Convert to binary and append to the list\n",
        "\n",
        "    return binary_list\n"
      ]
    },
    {
      "cell_type": "code",
      "execution_count": null,
      "metadata": {
        "colab": {
          "base_uri": "https://localhost:8080/"
        },
        "id": "Nqj6A4wwW_Hq",
        "outputId": "5a60525a-d8e1-48bb-846c-02d2ef1fbc0d"
      },
      "outputs": [
        {
          "output_type": "stream",
          "name": "stdout",
          "text": [
            "test passed\n"
          ]
        }
      ],
      "source": [
        "#testing above functions here\n",
        "\n",
        "test = [ 0, 0, 10, 0]\n",
        "\n",
        "res = convert_to_string(test)\n",
        "revers_res = binary_string_to_list(res)\n",
        "if test == revers_res:\n",
        "  print(\"test passed\")"
      ]
    },
    {
      "cell_type": "markdown",
      "metadata": {
        "id": "F1Ghq5MkX06d"
      },
      "source": [
        "# 4- here i made a function to permute the inputs:"
      ]
    },
    {
      "cell_type": "code",
      "execution_count": null,
      "metadata": {
        "id": "rzODodVlXznh"
      },
      "outputs": [],
      "source": [
        "def permute_string(input_str):\n",
        "    permutation_map = Px\n",
        "    # Initialize a list with zeros, of the same length as the input string\n",
        "    permuted_list = ['0'] * len(input_str)\n",
        "\n",
        "    # Loop through each character in the input string and permute it\n",
        "    for i, char in enumerate(input_str):\n",
        "        new_position = permutation_map[i]\n",
        "        permuted_list[new_position] = char\n",
        "\n",
        "    # Join the list into a string\n",
        "    permuted_str = ''.join(permuted_list)\n",
        "    return permuted_str"
      ]
    },
    {
      "cell_type": "markdown",
      "metadata": {
        "id": "LYiPNRi5r2wV"
      },
      "source": [
        "the following function changed the above function for adopting section 11."
      ]
    },
    {
      "cell_type": "code",
      "execution_count": null,
      "metadata": {
        "id": "xQueZfV-4X8i"
      },
      "outputs": [],
      "source": [
        "def permute_string(input_str):\n",
        "    if len(input_str) != len(Px):\n",
        "        raise ValueError(\"Length of input string does not match the permutation map.\")\n",
        "\n",
        "    # Initialize a list with the correct length\n",
        "    permuted_list = ['0'] * len(input_str)\n",
        "\n",
        "    for i, char in enumerate(input_str):\n",
        "        new_position = Px[i]\n",
        "        permuted_list[new_position] = char\n",
        "\n",
        "    return ''.join(permuted_list)\n"
      ]
    },
    {
      "cell_type": "code",
      "execution_count": null,
      "metadata": {
        "colab": {
          "base_uri": "https://localhost:8080/",
          "height": 36
        },
        "id": "v-DnIWLSX9ZW",
        "outputId": "f8348ca9-6f0f-4547-fce3-8e6e8840dd05"
      },
      "outputs": [
        {
          "output_type": "execute_result",
          "data": {
            "text/plain": [
              "'0010000000100000'"
            ],
            "application/vnd.google.colaboratory.intrinsic+json": {
              "type": "string"
            }
          },
          "metadata": {},
          "execution_count": 10
        }
      ],
      "source": [
        "#testing above function\n",
        "\n",
        "res_01 = permute_string('0000000010100000')\n",
        "res_01"
      ]
    },
    {
      "cell_type": "markdown",
      "metadata": {
        "id": "5QsutQWXagKb"
      },
      "source": [
        "# 5- here I made functions to calculate all posible output of a S-box from the DDT matrix"
      ]
    },
    {
      "cell_type": "code",
      "execution_count": null,
      "metadata": {
        "id": "vUEiYyn_a8nc"
      },
      "outputs": [],
      "source": [
        "def generate_possible_outputs(input_index):\n",
        "    ddt = DDT_matrix\n",
        "    possible_outputs = []\n",
        "    for col_index, probability in enumerate(ddt[input_index]):\n",
        "        if probability > 0:\n",
        "            possible_outputs.append(col_index)\n",
        "    return possible_outputs\n"
      ]
    },
    {
      "cell_type": "code",
      "execution_count": null,
      "metadata": {
        "colab": {
          "base_uri": "https://localhost:8080/"
        },
        "id": "3_b19NoXbVRO",
        "outputId": "57ba30d1-fc1f-4c88-ab9f-c5aac6a29c34"
      },
      "outputs": [
        {
          "output_type": "stream",
          "name": "stdout",
          "text": [
            "[1, 5, 6, 7, 9, 10, 15]\n"
          ]
        }
      ],
      "source": [
        "# Test above function\n",
        "input_index = 9\n",
        "outputs = generate_possible_outputs(input_index)\n",
        "print(outputs)"
      ]
    },
    {
      "cell_type": "markdown",
      "metadata": {
        "id": "EdMGnWWwwvH1"
      },
      "source": [
        "#6- The following function just takes a list as input and gives all possible lists as output"
      ]
    },
    {
      "cell_type": "code",
      "execution_count": null,
      "metadata": {
        "id": "CL05CK3OcOG8"
      },
      "outputs": [],
      "source": [
        "import itertools\n",
        "\n",
        "def Make_list_of_possible_output(output):\n",
        "  first_list = [generate_possible_outputs(i) for i in output]\n",
        "  first_list = [[element] if isinstance(element, int) else element for element in first_list]\n",
        "  return list(map(list, itertools.product(*first_list)))\n"
      ]
    },
    {
      "cell_type": "code",
      "execution_count": null,
      "metadata": {
        "colab": {
          "base_uri": "https://localhost:8080/"
        },
        "id": "zsAe2wV0hjKt",
        "outputId": "8355d044-d5b3-490b-ce08-a9ee9c1ada66"
      },
      "outputs": [
        {
          "output_type": "execute_result",
          "data": {
            "text/plain": [
              "[[0, 0, 4, 0],\n",
              " [0, 0, 5, 0],\n",
              " [0, 0, 9, 0],\n",
              " [0, 0, 10, 0],\n",
              " [0, 0, 12, 0],\n",
              " [0, 0, 13, 0]]"
            ]
          },
          "metadata": {},
          "execution_count": 14
        }
      ],
      "source": [
        "#test this guy:\n",
        "test_Make_list_of_possible_output = Make_list_of_possible_output([0,0,10,0])\n",
        "test_Make_list_of_possible_output"
      ]
    },
    {
      "cell_type": "markdown",
      "metadata": {
        "id": "LWoDvY4exaWK"
      },
      "source": [
        "#7- this function converts lists like this: [[ 0, 0, 2, 0]] and converts it to a string like this: ['0000000000100000']"
      ]
    },
    {
      "cell_type": "code",
      "execution_count": null,
      "metadata": {
        "id": "DjGvzd5tghsX"
      },
      "outputs": [],
      "source": [
        "def convert_nested_list_to_binary_string(nested_list):\n",
        "    return [convert_to_string(sublist) for sublist in nested_list]"
      ]
    },
    {
      "cell_type": "code",
      "execution_count": null,
      "metadata": {
        "id": "TnPLPeEEelEh"
      },
      "outputs": [],
      "source": [
        "#testing above function\n",
        "converted_strings = convert_nested_list_to_binary_string(test_Make_list_of_possible_output)"
      ]
    },
    {
      "cell_type": "markdown",
      "metadata": {
        "id": "FTY4egP6yJNu"
      },
      "source": [
        "till now, we made functions which let us find all possible outputs as a list and permute outputs. to merge both these concepts (finding possible lists and permuting them)"
      ]
    },
    {
      "cell_type": "markdown",
      "metadata": {
        "id": "MhJPQjHrTKp0"
      },
      "source": [
        "# 8- Make a recursive function to output the possible n round characteristic:\n",
        "\n",
        " we need a recursive algorithm which finds all outputs after each rounds. now i make a function to calculate the output of one round characteristic from input_list."
      ]
    },
    {
      "cell_type": "code",
      "execution_count": null,
      "metadata": {
        "colab": {
          "base_uri": "https://localhost:8080/"
        },
        "id": "X63ddD2ahZE7",
        "outputId": "9b39e13f-63a8-41b2-d715-d41488e5e73d"
      },
      "outputs": [
        {
          "output_type": "stream",
          "name": "stdout",
          "text": [
            "[[0, 0, 0, 2], [0, 0, 2, 0], [2, 0, 0, 2], [2, 0, 2, 0]]\n"
          ]
        }
      ],
      "source": [
        "#make a full step:\n",
        "\n",
        "def recursive_process(input_list, rounds):\n",
        "    if rounds == 0:\n",
        "        return [input_list]\n",
        "    else:\n",
        "        # Apply the first step\n",
        "        first_step_output = Make_list_of_possible_output(input_list)\n",
        "\n",
        "        # Apply permutation and recursion to each result of the first step\n",
        "        all_outputs = []\n",
        "        for output in first_step_output:\n",
        "            permuted_output = binary_string_to_list(permute_string(convert_to_string(output)))\n",
        "            # Recursively process the permuted output\n",
        "            subsequent_outputs = recursive_process(permuted_output, rounds - 1)\n",
        "            all_outputs.extend(subsequent_outputs)\n",
        "\n",
        "        return all_outputs\n",
        "\n",
        "# Example usage\n",
        "input_list = [0, 0, 2, 0]\n",
        "rounds = 1\n",
        "all_possible_outputs = recursive_process(input_list, rounds)\n",
        "print(all_possible_outputs)\n"
      ]
    },
    {
      "cell_type": "markdown",
      "metadata": {
        "id": "YjQ1S3bjWY68"
      },
      "source": [
        "as it is obvious, it only shows the output of one (or higher) round characteristic without intermediate lists. in the next step the functions filters outputs that in the last round leads to a target_list and also shows every intermediate lists, after each 'Make_list_of_possible_output()' function and each 'permute_string()' function."
      ]
    },
    {
      "cell_type": "markdown",
      "metadata": {
        "id": "Nyv4JiK9cVXa"
      },
      "source": [
        "# 9- the answer of Exercise 4 part a:"
      ]
    },
    {
      "cell_type": "code",
      "execution_count": null,
      "metadata": {
        "colab": {
          "base_uri": "https://localhost:8080/"
        },
        "id": "7Nhn5unad5Lf",
        "outputId": "317cbcd9-ae5d-45ed-cd05-1f555ddbf2e8"
      },
      "outputs": [
        {
          "output_type": "stream",
          "name": "stdout",
          "text": [
            "[[0, 0, 2, 0], [0, 0, 1, 0], [0, 0, 0, 2], [0, 0, 0, 1], [0, 0, 0, 1], [0, 0, 0, 2], [0, 0, 1, 0], [0, 0, 2, 0], [0, 0, 2, 0]]\n",
            "[[0, 0, 2, 0], [0, 0, 1, 0], [0, 0, 0, 2], [0, 0, 0, 2], [0, 0, 1, 0], [0, 0, 2, 0], [0, 0, 2, 0], [0, 0, 2, 0], [0, 0, 2, 0]]\n",
            "[[0, 0, 2, 0], [0, 0, 2, 0], [0, 0, 2, 0], [0, 0, 1, 0], [0, 0, 0, 2], [0, 0, 0, 2], [0, 0, 1, 0], [0, 0, 2, 0], [0, 0, 2, 0]]\n",
            "[[0, 0, 2, 0], [0, 0, 2, 0], [0, 0, 2, 0], [0, 0, 2, 0], [0, 0, 2, 0], [0, 0, 2, 0], [0, 0, 2, 0], [0, 0, 2, 0], [0, 0, 2, 0]]\n"
          ]
        }
      ],
      "source": [
        "def recursive_process_all_process(input_list, rounds, target_output, current_path=[]):\n",
        "    # Add the current list to the path\n",
        "    current_path = current_path + [input_list]\n",
        "\n",
        "    if rounds == 0:\n",
        "        # Check if the final output matches the target output\n",
        "        return [current_path] if input_list == target_output else []\n",
        "    else:\n",
        "        # Apply the first step\n",
        "        first_step_output = Make_list_of_possible_output(input_list)\n",
        "\n",
        "        # Apply permutation and recursion to each result of the first step\n",
        "        all_paths = []\n",
        "        for output in first_step_output:\n",
        "            # Add the intermediate output to the path\n",
        "            path_with_intermediate = current_path + [output]\n",
        "\n",
        "            # Apply permutation\n",
        "            permuted_output = binary_string_to_list(permute_string(convert_to_string(output)))\n",
        "\n",
        "            # Recursively process the permuted output, adding it to the path\n",
        "            subsequent_paths = recursive_process_all_process(permuted_output, rounds - 1, target_output, path_with_intermediate)\n",
        "            all_paths.extend(subsequent_paths)\n",
        "\n",
        "        return all_paths\n",
        "\n",
        "# Example usage\n",
        "input_list = [0, 0, 2, 0]\n",
        "rounds =4\n",
        "target_output = [0, 0, 2, 0]\n",
        "all_paths_to_target = recursive_process_all_process(input_list, rounds, target_output)\n",
        "for path in all_paths_to_target:\n",
        "    print(path)\n",
        "#----------------------"
      ]
    },
    {
      "cell_type": "markdown",
      "metadata": {
        "id": "PfFxblPegpJC"
      },
      "source": [
        "In the function described above, every possible list that can lead to the target list and its permuted form is calculated. For instance, the first potential output from [0, 0, 2, 0] is [0, 0, 1, 0]. Upon permuting this, the output becomes [0, 0, 0, 2] (since 11 permutes to 14), thereby completing one round of characteristic. Each subsequent pair of lists is first generated using the Make_list_of_possible_output() function and then processed using permute_string() respectively.\n",
        "\n",
        "Therefore, the answer to part A, which seeks the other three 4-round characteristics (trails), is represented by the first three rows."
      ]
    },
    {
      "cell_type": "markdown",
      "metadata": {
        "id": "tlKCH2e5iZ48"
      },
      "source": [
        "# 10 - Answer for Exercise 4, Part B:\n",
        "\n",
        "First, using 'recursive_process_all_process()' for 5 rounds took 25 minutes and made Google Colab (12.67 GB RAM) crash due to too much memory use. So, I used an iterative method to lower memory use in recursion. Yet, it's still taking a lot of time.\n",
        "\n",
        "Using iterative ways in recursive algorithms stops stack overflow, saves memory, and works better, making it easier for some problems."
      ]
    },
    {
      "cell_type": "code",
      "execution_count": null,
      "metadata": {
        "colab": {
          "base_uri": "https://localhost:8080/"
        },
        "id": "nDCldTnQtIxr",
        "outputId": "3af7e6dc-4b41-48e9-bcb6-355e9224919e"
      },
      "outputs": [
        {
          "output_type": "stream",
          "name": "stdout",
          "text": [
            "[[0, 0, 2, 0], [0, 0, 2, 0], [0, 0, 2, 0], [0, 0, 2, 0], [0, 0, 2, 0], [0, 0, 2, 0], [0, 0, 2, 0], [0, 0, 2, 0], [0, 0, 2, 0]]\n",
            "[[0, 0, 2, 0], [0, 0, 2, 0], [0, 0, 2, 0], [0, 0, 1, 0], [0, 0, 0, 2], [0, 0, 0, 2], [0, 0, 1, 0], [0, 0, 2, 0], [0, 0, 2, 0]]\n",
            "[[0, 0, 2, 0], [0, 0, 1, 0], [0, 0, 0, 2], [0, 0, 0, 2], [0, 0, 1, 0], [0, 0, 2, 0], [0, 0, 2, 0], [0, 0, 2, 0], [0, 0, 2, 0]]\n",
            "[[0, 0, 2, 0], [0, 0, 1, 0], [0, 0, 0, 2], [0, 0, 0, 1], [0, 0, 0, 1], [0, 0, 0, 2], [0, 0, 1, 0], [0, 0, 2, 0], [0, 0, 2, 0]]\n"
          ]
        }
      ],
      "source": [
        "def iterative_process(input_list, total_rounds, target_output):\n",
        "    stack = [(input_list, 0, [input_list])]  # Stack holds tuples of (current list, current round, path so far)\n",
        "    valid_paths = []\n",
        "\n",
        "    while stack:\n",
        "        current_list, current_round, current_path = stack.pop()\n",
        "\n",
        "        if current_round == total_rounds:\n",
        "            if current_list == target_output:\n",
        "                valid_paths.append(current_path)\n",
        "            continue\n",
        "\n",
        "        # Apply the first step\n",
        "        first_step_output = Make_list_of_possible_output(current_list)\n",
        "\n",
        "        for output in first_step_output:\n",
        "            # Apply permutation\n",
        "            permuted_output = binary_string_to_list(permute_string(convert_to_string(output)))\n",
        "\n",
        "            # Form the new path including the output and its permutation\n",
        "            new_path = current_path + [output, permuted_output]\n",
        "\n",
        "            # Push the new state onto the stack for further processing\n",
        "            if current_round + 1 <= total_rounds:\n",
        "                stack.append((permuted_output, current_round + 1, new_path))\n",
        "\n",
        "    return valid_paths\n",
        "\n",
        "# Example usage\n",
        "input_list = [0, 0, 2, 0]\n",
        "rounds = 4\n",
        "target_output = [0, 0, 2, 0]\n",
        "all_paths_to_target = iterative_process(input_list, rounds, target_output)\n",
        "for path in all_paths_to_target:\n",
        "    print(path)\n"
      ]
    },
    {
      "cell_type": "markdown",
      "metadata": {
        "id": "aNgSiiHjxop1"
      },
      "source": [
        "Unfortunately, it didn't give the answer even after running for 2 hours :)\n",
        "so, let's try another method to reduce the time and memory usage.\n",
        "\n",
        "Memoization helps in optimizing recursive algorithms by storing the results of function calls, which cuts down on repeating calculations. It's really useful in dynamic programming and tasks done over and over, as it speeds up the process, but it does require more space for storing these results.\n",
        "but this function works properly for input rounds = 4"
      ]
    },
    {
      "cell_type": "code",
      "execution_count": null,
      "metadata": {
        "colab": {
          "base_uri": "https://localhost:8080/"
        },
        "id": "SVWa-aseyq-w",
        "outputId": "fd31faec-14f5-4476-f692-bb082d53dc7a"
      },
      "outputs": [
        {
          "output_type": "stream",
          "name": "stdout",
          "text": [
            "[[0, 0, 1, 0], [0, 0, 0, 2], [0, 0, 0, 1], [0, 0, 0, 1], [0, 0, 0, 2], [0, 0, 1, 0], [0, 0, 2, 0], [0, 0, 2, 0], [0, 0, 2, 0]]\n",
            "[[0, 0, 1, 0], [0, 0, 0, 2], [0, 0, 0, 2], [0, 0, 1, 0], [0, 0, 2, 0], [0, 0, 2, 0], [0, 0, 2, 0], [0, 0, 2, 0], [0, 0, 2, 0]]\n",
            "[[0, 0, 2, 0], [0, 0, 2, 0], [0, 0, 1, 0], [0, 0, 0, 2], [0, 0, 0, 2], [0, 0, 1, 0], [0, 0, 2, 0], [0, 0, 2, 0], [0, 0, 2, 0]]\n",
            "[[0, 0, 2, 0], [0, 0, 2, 0], [0, 0, 2, 0], [0, 0, 2, 0], [0, 0, 2, 0], [0, 0, 2, 0], [0, 0, 2, 0], [0, 0, 2, 0], [0, 0, 2, 0]]\n"
          ]
        }
      ],
      "source": [
        "def recursive_process_memory(input_list, rounds, target_output, current_path=[], memo=None):\n",
        "    # Initialize memoization dictionary if it's the first call\n",
        "    if memo is None:\n",
        "        memo = {}\n",
        "\n",
        "    # Convert the current state to a hashable key for memoization\n",
        "    memo_key = (tuple(input_list), rounds, tuple(tuple(x) for x in current_path))\n",
        "\n",
        "    # Check if we have already computed this state\n",
        "    if memo_key in memo:\n",
        "        return memo[memo_key]\n",
        "\n",
        "    if rounds == 0:\n",
        "        if input_list == target_output:\n",
        "            return [current_path + [input_list]]\n",
        "        return []\n",
        "    else:\n",
        "        first_step_output = Make_list_of_possible_output(input_list)\n",
        "        all_paths = []\n",
        "        for output in first_step_output:\n",
        "            # Apply permutation\n",
        "            permuted_output = binary_string_to_list(permute_string(convert_to_string(output)))\n",
        "\n",
        "            # Construct the new path\n",
        "            new_path = current_path + [output, permuted_output]\n",
        "\n",
        "            # Recursively process the permuted output\n",
        "            subsequent_paths = recursive_process_memory(permuted_output, rounds - 1, target_output, new_path, memo)\n",
        "            all_paths.extend(subsequent_paths)\n",
        "\n",
        "        # Store the result in memo before returning\n",
        "        memo[memo_key] = all_paths\n",
        "        return all_paths\n",
        "\n",
        "# Example usage\n",
        "input_list = [0, 0, 2, 0]\n",
        "rounds = 4\n",
        "target_output = [0, 0, 2, 0]\n",
        "all_paths_to_target = recursive_process_memory(input_list, rounds, target_output)\n",
        "for path in all_paths_to_target:\n",
        "    print(path)\n"
      ]
    },
    {
      "cell_type": "markdown",
      "metadata": {
        "id": "dQDPJmJh-vW-"
      },
      "source": [
        "unfortunatly this function also didnt give the answer in a proper time :(\n",
        "\n",
        "but this function works properly for input rounds = 4"
      ]
    },
    {
      "cell_type": "markdown",
      "metadata": {
        "id": "yQjwSdGV0I2g"
      },
      "source": [
        "# 11-Lets use GPU paralel computation:"
      ]
    },
    {
      "cell_type": "code",
      "execution_count": null,
      "metadata": {
        "id": "SkV42Qbt1N7s"
      },
      "outputs": [],
      "source": [
        "!pip install cupy"
      ]
    },
    {
      "cell_type": "code",
      "execution_count": null,
      "metadata": {
        "id": "M6W2lziN2IgP"
      },
      "outputs": [],
      "source": [
        "import cupy as cp\n",
        "\n",
        "def convert_to_binary(massage_input_decimal):\n",
        "    # Check if the input is iterable (like a list) or a single number\n",
        "    if isinstance(massage_input_decimal, np.ndarray) or isinstance(massage_input_decimal, list):\n",
        "        bin_massage = [bin(x) for x in massage_input_decimal]\n",
        "    else:\n",
        "        bin_massage = [bin(massage_input_decimal)]\n",
        "    return bin_massage\n",
        "\n",
        "# ... the rest of your code ...\n",
        "\n",
        "# Example function that demonstrates GPU-accelerated computation\n",
        "def gpu_accelerated_function(input_data):\n",
        "    input_gpu = cp.asarray(input_data)\n",
        "    # Perform an operation that is more aligned with reaching the target output\n",
        "    # This is a placeholder operation and should be modified according to your algorithm's requirements\n",
        "    output_gpu = cp.where(input_gpu == 2, 2, input_gpu)  # For example, keeping 2 as is and modifying other elements\n",
        "    return cp.asnumpy(output_gpu)\n",
        "\n",
        "def perform_relevant_transformation(input_gpu):\n",
        "    # Example GPU-accelerated operation: squaring each element\n",
        "    output_gpu = input_gpu ** 2\n",
        "    return output_gpu\n",
        "\n",
        "def iterative_process(input_list, total_rounds, target_output):\n",
        "    stack = [(input_list, 0, [input_list])]\n",
        "    valid_paths = []\n",
        "\n",
        "    while stack:\n",
        "        current_list, current_round, current_path = stack.pop()\n",
        "        print(f\"Processing: {current_list}, Round: {current_round}\")\n",
        "\n",
        "        if current_round == total_rounds:\n",
        "            print(f\"Reached final round with list: {current_list}\")\n",
        "            if current_list == target_output:\n",
        "                valid_paths.append(current_path)\n",
        "            continue\n",
        "\n",
        "        first_step_output = gpu_accelerated_function(current_list)\n",
        "        print(f\"First step output: {first_step_output}\")\n",
        "\n",
        "        for output in first_step_output:\n",
        "            output_str = convert_to_string(output)\n",
        "            if len(output_str) != len(Px):\n",
        "                continue\n",
        "\n",
        "            permuted_output = binary_string_to_list(permute_string(output_str))\n",
        "            new_path = current_path + [output, permuted_output]\n",
        "            print(f\"New path: {new_path}\")\n",
        "\n",
        "            if current_round + 1 <= total_rounds:\n",
        "                stack.append((permuted_output, current_round + 1, new_path))\n",
        "\n",
        "    return valid_paths\n",
        "\n",
        "\n",
        "\n",
        "# Example usage\n",
        "input_list = [0, 0, 2, 0]\n",
        "rounds = 4\n",
        "target_output = [0, 0, 2, 0]\n",
        "all_paths_to_target = iterative_process(input_list, rounds, target_output)\n",
        "for path in all_paths_to_target:\n",
        "    print(path)\n"
      ]
    },
    {
      "cell_type": "markdown",
      "metadata": {
        "id": "ksLtH8Tf_E-Y"
      },
      "source": [
        "results till 1/28/2024:\n",
        "till now i wastnt successful using GPU paralel computing to solve the functions with 5 rounds!\n"
      ]
    },
    {
      "cell_type": "code",
      "execution_count": null,
      "metadata": {
        "id": "0-mDwJeH_mNx"
      },
      "outputs": [],
      "source": [
        "DDT_matrix = [\\\n",
        "       [16,  0,  0,  0,  0,  0,  0,  0,  0,  0,  0,  0,  0,  0,  0,  0],\n",
        "       [ 0,  0,  6,  0,  0,  0,  0,  2,  0,  2,  0,  0,  2,  0,  4,  0],\\\n",
        "\n",
        "       [ 0,  6,  0,  0,  0,  0,  0,  0,  0,  0,  2,  0,  0,  0,  0,  0],\\\n",
        "\n",
        "       [ 0,  0,  0,  6,  0,  2,  0,  0,  2,  0,  0,  0,  4,  0,  2,  0],\n",
        "       [ 0,  0,  0,  2,  0,  2,  4,  0,  0,  2,  2,  2,  0,  0,  2,  0],\n",
        "       [ 0,  2,  2,  0,  4,  0,  0,  4,  2,  0,  0,  2,  0,  0,  0,  0],\n",
        "       [ 0,  0,  2,  0,  4,  0,  0,  2,  2,  0,  2,  2,  2,  0,  0,  0],\n",
        "       [ 0,  0,  0,  0,  0,  4,  4,  0,  2,  2,  2,  2,  0,  0,  0,  0],\n",
        "       [ 0,  0,  0,  0,  0,  2,  0,  2,  4,  0,  0,  4,  0,  2,  0,  2],\n",
        "       [ 0,  2,  0,  0,  0,  2,  2,  2,  0,  4,  2,  0,  0,  0,  0,  2],\n",
        "       [ 0,  0,  0,  0,  2,  2,  0,  0,  0,  4,  4,  0,  2,  2,  0,  0],\n",
        "       [ 0,  0,  0,  2,  2,  0,  2,  2,  2,  0,  0,  4,  0,  0,  2,  0],\n",
        "       [ 0,  4,  0,  2,  0,  2,  0,  0,  2,  0,  0,  0,  0,  0,  6,  0],\n",
        "       [ 0,  0,  0,  0,  0,  0,  2,  2,  0,  0,  0,  0,  6,  2,  0,  4],\n",
        "       [ 0,  2,  0,  4,  2,  0,  0,  0,  0,  0,  2,  0,  0,  0,  0,  6],\n",
        "       [ 0,  0,  0,  0,  2,  0,  2,  0,  0,  0,  0,  0,  0, 10,  0,  2]]"
      ]
    },
    {
      "cell_type": "code",
      "execution_count": null,
      "metadata": {
        "colab": {
          "base_uri": "https://localhost:8080/"
        },
        "id": "7bhj8Kp7A0Y0",
        "outputId": "b974c35d-7732-443f-a228-237fccdfa09b"
      },
      "outputs": [
        {
          "output_type": "stream",
          "name": "stdout",
          "text": [
            "[[0, 0, 2, 0], [0, 0, 10, 0], [2, 0, 2, 0], [1, 0, 1, 0], [0, 0, 0, 10], [0, 0, 0, 5], [0, 1, 0, 1], [0, 2, 0, 2], [0, 0, 5, 0], [0, 0, 2, 0], [0, 0, 2, 0]]\n"
          ]
        }
      ],
      "source": [
        "\n",
        "def iterative_process_last_hopes(input_list, total_rounds, target_output):\n",
        "    stack = [(input_list, 0, [input_list])]  # Stack holds tuples of (current list, current round, path so far)\n",
        "    valid_paths = []\n",
        "\n",
        "    while stack:\n",
        "        current_list, current_round, current_path = stack.pop()\n",
        "\n",
        "        if current_round == total_rounds:\n",
        "            if current_list == target_output:\n",
        "                valid_paths.append(current_path)\n",
        "            continue\n",
        "\n",
        "        # Apply the first step\n",
        "        first_step_output = Make_list_of_possible_output(current_list)\n",
        "\n",
        "        for output in first_step_output:\n",
        "            # Apply permutation\n",
        "            permuted_output = binary_string_to_list(permute_string(convert_to_string(output)))\n",
        "\n",
        "            # Form the new path including the output and its permutation\n",
        "            new_path = current_path + [output, permuted_output]\n",
        "\n",
        "            # Push the new state onto the stack for further processing\n",
        "            if current_round + 1 <= total_rounds:\n",
        "                stack.append((permuted_output, current_round + 1, new_path))\n",
        "\n",
        "    return valid_paths\n",
        "\n",
        "# Example usage\n",
        "input_list = [0, 0, 2, 0]\n",
        "rounds = 5\n",
        "target_output = [0, 0, 2, 0]\n",
        "all_paths_to_target = iterative_process(input_list, rounds, target_output)\n",
        "for path in all_paths_to_target:\n",
        "    print(path)\n"
      ]
    },
    {
      "cell_type": "markdown",
      "source": [
        "# Last Results about Excersise 4 part b:\n",
        "\n",
        "as you know it before the time and memory complexity of any ideas about solving this question is so high. so after trying to optimize our recursive algorithm by two ideas, first iterative process then memorizing process, we tryed using Cuda (Nvidia Graphical Paralel programing kit) but also it was not successful. (mostly because of our lack of knowledge in using Cuda and cupy) then we tried to change the DDT matrix to 4 matrixes which every one of them was different just in the row with index 2 (input 2). first we assumed the only probable outputs of any input 2, is 1 and 9. then we assumed the only probable outputs of any input 2, is 1 and 2. then we assumed the only probable outputs of any input 2, is 2 and 9. then we assumed the only probable outputs of any input 2, is 2 and 10. then we runned the algorithm for each DDT matrix and saved the output in a txt file :)\n",
        "the outputs are in the txt file attached in the project folder.\n",
        "\n",
        "finishing time: 1/28/2024 at 10:53\n",
        ":)"
      ],
      "metadata": {
        "id": "XaZGPgTiBB7t"
      }
    }
  ],
  "metadata": {
    "colab": {
      "provenance": [],
      "authorship_tag": "ABX9TyMfiLnSUac4Fs7GAFg34EHR",
      "include_colab_link": true
    },
    "kernelspec": {
      "display_name": "Python 3",
      "name": "python3"
    },
    "language_info": {
      "name": "python"
    }
  },
  "nbformat": 4,
  "nbformat_minor": 0
}